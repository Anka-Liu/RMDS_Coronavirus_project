{
 "cells": [
  {
   "cell_type": "code",
   "execution_count": 110,
   "metadata": {
    "ExecuteTime": {
     "end_time": "2020-04-12T02:24:50.028606Z",
     "start_time": "2020-04-12T02:24:50.004672Z"
    }
   },
   "outputs": [],
   "source": [
    "# The simulation is based on the following:\n",
    "# A number of people are moving randomly in specified square space\n",
    "# the starting locations of persons are also random\n",
    "# If in one second, the healthy people is within 1 meter from a contracted person, we randomly decide whether the person is contracted\n",
    "# Every seconds a person move under a normal distribution of mean=0, standard deviation is specified by user, in meter\n",
    "# We simulate the changes of location & state of persons every second\n",
    "import numpy as np\n",
    "import matplotlib.pyplot as plt\n",
    "\n",
    "class person:\n",
    "    def __init__(self, dist_room, state):\n",
    "        \"\"\"\n",
    "        A simulation of a person, containing location & moving state\n",
    "        Input: \n",
    "            dist_room: How large the space is for the person to be created\n",
    "        Attributes:\n",
    "            x:x of coordinate\n",
    "            y:y of coordinate\n",
    "            dist_room: the space of room in meter\n",
    "            state: whether the person is walking or driving\n",
    "        \"\"\"\n",
    "        self.x = np.random.uniform(low=-dist_room/2, high=dist_room/2)\n",
    "        self.y = np.random.uniform(low=-dist_room/2, high=dist_room/2)\n",
    "        self.dist_room = dist_room\n",
    "        self.state = state\n",
    "\n",
    "    def move(self, dist_walk, dist_drive):\n",
    "        \"\"\"\n",
    "        Let the person \"move\" one second by changing coordinates, update x & y, distance fixed by input, direction random\n",
    "        Input: \n",
    "            dist_walk: moving distance of moving per second i by walking\n",
    "            dist_drive: moving distance of moving per second i by driving\n",
    "        \"\"\"\n",
    "        angle = np.random.uniform(low=0, high=2*np.pi)\n",
    "        if self.state == 0:\n",
    "            self.x = self.x+dist_walk*np.cos(angle)\n",
    "            self.y = self.y+dist_walk*np.sin(angle)\n",
    "        else:\n",
    "            self.x = self.x+dist_drive*np.cos(angle)\n",
    "            self.y = self.y+dist_drive*np.sin(angle)\n",
    "\n",
    "    def reset(self):\n",
    "        \"\"\"\n",
    "        Reset the attributes\n",
    "        \"\"\"\n",
    "        self.x = np.random.uniform(\n",
    "            low=-self.dist_room/2, high=self.dist_room/2)\n",
    "        self.y = np.random.uniform(\n",
    "            low=-self.dist_room/2, high=self.dist_room/2)\n",
    "\n",
    "\n",
    "class room:\n",
    "    def __init__(self, dist_room, guests):\n",
    "        \"\"\"\n",
    "        Build the room with specified space, total guests anyd initial total patients\n",
    "        Input:\n",
    "            dist_rooms: width of the space, in meter\n",
    "            guests: total guests at start\n",
    "            init_covid: total covid patients at start\n",
    "        Attributes:\n",
    "            guest_list: the list of Person objects representing person information\n",
    "            init_covid: total covid patients at start\n",
    "            guests: total guests at start\n",
    "            dist_rooms: width of the space, in meter\n",
    "            total_contracted: the final total patients at the end of simulation\n",
    "            contracted: list of contracted persons\n",
    "            healthy: list of healthy persons\n",
    "        \"\"\"\n",
    "        self.guest_list = [person(dist_room, 0) for i in range(guests)]\n",
    "        self.guests = guests\n",
    "        self.dist_room = dist_room\n",
    "        self.total_contact = 0\n",
    "        self.contact_list = []\n",
    "\n",
    "    def reset(self):\n",
    "        \"\"\"\n",
    "        Reset the attributes\n",
    "        \"\"\"\n",
    "        self.guest_list = [person(self.dist_room, 0)\n",
    "                           for i in range(self.guests)]\n",
    "        self.total_contact = 0\n",
    "\n",
    "    def simulate_sec(self, dist_walk, dist_drive, state):\n",
    "        \"\"\"\n",
    "        Simulate the state of persons in this room after one second passes\n",
    "        If in one second, the healthy people is within 1 meter from a contracted person, we randomly decide whether the person is contracted\n",
    "        Input: dist: standard deviation of moving per second in a normal distribution\n",
    "        \"\"\"\n",
    "        angle = np.random.uniform(low=0, high=2*np.pi)\n",
    "        if state == 0:\n",
    "            Base_move_x = dist_walk*np.cos(angle)\n",
    "            Base_move_y = dist_walk*np.sin(angle)\n",
    "        else:\n",
    "            Base_move_x = dist_drive*np.cos(angle)\n",
    "            Base_move_y = dist_drive*np.cos(angle)\n",
    "        for j in range(len(self.guest_list)):\n",
    "            self.guest_list[j].move(dist_walk, dist_drive)\n",
    "            self.guest_list[j].x = self.guest_list[j].x-Base_move_x\n",
    "            self.guest_list[j].y = self.guest_list[j].x-Base_move_y\n",
    "            if (max(self.guest_list[j].x, self.guest_list[j].y) > self.dist_room/2) | (min(self.guest_list[j].x, self.guest_list[j].y) < -self.dist_room/2):\n",
    "                self.guest_list[j] = person(self.dist_room, 0)\n",
    "                self.guest_list[j].x = np.random.choice(\n",
    "                    [-self.dist_room/2, self.dist_room/2], p=[0.5, 0.5])\n",
    "                self.guest_list[j].y = np.random.uniform(\n",
    "                    low=-self.dist_room/2, high=self.dist_room/2)\n",
    "        for l in self.guest_list:\n",
    "            if ((l.x**2+l.y**2) < 1) & (l not in self.contact_list):\n",
    "                if l.state == 0:\n",
    "                    self.total_contact += 1\n",
    "                else:\n",
    "                    self.total_contact += 0.1\n",
    "                self.contact_list.append(l)\n",
    "\n",
    "    def simulate(self,  dist_walk, dist_drive, state_list):\n",
    "        \"\"\"\n",
    "        Simulate the state of persons in this room after specified length of time passes\n",
    "        Input: \n",
    "            dist: standard deviation of moving per second in a normal distribution\n",
    "            time: specified time length\n",
    "        \"\"\"\n",
    "        self.reset()\n",
    "        for i in range(len(state_list)):\n",
    "            for j in range(len(self.guest_list)):\n",
    "                self.guest_list[j].state = state_list[i]\n",
    "            self.simulate_sec(dist_walk, dist_drive, i)\n",
    "            \n",
    "def one_day_simulation(perc_dec):\n",
    "    \"\"\"\n",
    "    This one day simulation costs 3 minutes.\n",
    "    Input: perc\n",
    "    \"\"\"\n",
    "    #I think one day a person usually walks 4 hours and drive 2 hours\n",
    "    timelist = np.concatenate(\n",
    "        (np.ones(3600), np.zeros(3600*4), np.ones(3600)))\n",
    "    \n",
    "    simulation = room(100, 30)\n",
    "    simulation.simulate(20, 1, timelist)\n",
    "\n",
    "    simulation1 = room(100, 30)\n",
    "    simulation1.simulate(20*(1-perc_dec), 1*(1-perc_dec), timelist)\n",
    "\n",
    "    return simulation1.total_contact/simulation.total_contact-1"
   ]
  },
  {
   "cell_type": "code",
   "execution_count": 92,
   "metadata": {
    "ExecuteTime": {
     "end_time": "2020-04-12T00:52:07.662361Z",
     "start_time": "2020-04-12T00:52:07.655379Z"
    }
   },
   "outputs": [],
   "source": []
  },
  {
   "cell_type": "code",
   "execution_count": 94,
   "metadata": {
    "ExecuteTime": {
     "end_time": "2020-04-12T00:56:29.596732Z",
     "start_time": "2020-04-12T00:52:51.304850Z"
    }
   },
   "outputs": [
    {
     "data": {
      "text/plain": [
       "0.7944598276093057"
      ]
     },
     "execution_count": 94,
     "metadata": {},
     "output_type": "execute_result"
    }
   ],
   "source": [
    "one_day_simulation(0.6)"
   ]
  },
  {
   "cell_type": "code",
   "execution_count": 95,
   "metadata": {
    "ExecuteTime": {
     "end_time": "2020-04-12T00:59:43.281590Z",
     "start_time": "2020-04-12T00:56:29.611691Z"
    }
   },
   "outputs": [
    {
     "data": {
      "text/plain": [
       "0.502346576462549"
      ]
     },
     "execution_count": 95,
     "metadata": {},
     "output_type": "execute_result"
    }
   ],
   "source": [
    "one_day_simulation(0.4)"
   ]
  },
  {
   "cell_type": "code",
   "execution_count": 96,
   "metadata": {
    "ExecuteTime": {
     "end_time": "2020-04-12T01:02:56.798445Z",
     "start_time": "2020-04-12T00:59:43.298546Z"
    }
   },
   "outputs": [
    {
     "data": {
      "text/plain": [
       "0.1764514463969115"
      ]
     },
     "execution_count": 96,
     "metadata": {},
     "output_type": "execute_result"
    }
   ],
   "source": [
    "one_day_simulation(0.2)"
   ]
  },
  {
   "cell_type": "code",
   "execution_count": 111,
   "metadata": {
    "ExecuteTime": {
     "end_time": "2020-04-12T02:24:53.029018Z",
     "start_time": "2020-04-12T02:24:53.026029Z"
    }
   },
   "outputs": [],
   "source": [
    "x=np.linspace(0,0.9,10)"
   ]
  },
  {
   "cell_type": "code",
   "execution_count": 112,
   "metadata": {
    "ExecuteTime": {
     "end_time": "2020-04-12T02:31:30.314766Z",
     "start_time": "2020-04-12T02:24:54.612137Z"
    }
   },
   "outputs": [],
   "source": [
    "desc=[one_day_simulation(i) for i in x]"
   ]
  },
  {
   "cell_type": "code",
   "execution_count": 113,
   "metadata": {
    "ExecuteTime": {
     "end_time": "2020-04-12T04:16:05.889992Z",
     "start_time": "2020-04-12T04:16:05.884008Z"
    }
   },
   "outputs": [
    {
     "data": {
      "text/plain": [
       "[-0.0410944089975126,\n",
       " -0.024793839768444847,\n",
       " -0.055327299983343514,\n",
       " -0.14393049370235766,\n",
       " -0.2457640750670239,\n",
       " -0.33490237584602944,\n",
       " -0.48064796390235665,\n",
       " -0.6553735073590667,\n",
       " -0.8249518039107683,\n",
       " -0.9526922652543308]"
      ]
     },
     "execution_count": 113,
     "metadata": {},
     "output_type": "execute_result"
    }
   ],
   "source": [
    "desc"
   ]
  },
  {
   "cell_type": "code",
   "execution_count": 116,
   "metadata": {
    "ExecuteTime": {
     "end_time": "2020-04-12T04:16:49.983324Z",
     "start_time": "2020-04-12T04:16:49.880561Z"
    }
   },
   "outputs": [
    {
     "data": {
      "image/png": "[encoded data removed]",
      "text/plain": [
       "<Figure size 576x432 with 1 Axes>"
      ]
     },
     "metadata": {
      "needs_background": "light"
     },
     "output_type": "display_data"
    }
   ],
   "source": [
    "plt.figure(figsize=(8,6))\n",
    "plt.plot(x,desc)\n",
    "plt.ylabel('Contact Frequency Decrease')\n",
    "plt.xlabel('Distance Percentage Decrease')\n",
    "plt.show()"
   ]
  },
  {
   "cell_type": "code",
   "execution_count": null,
   "metadata": {},
   "outputs": [],
   "source": []
  }
 ],
 "metadata": {
  "kernelspec": {
   "display_name": "Python 3",
   "language": "python",
   "name": "python3"
  },
  "language_info": {
   "codemirror_mode": {
    "name": "ipython",
    "version": 3
   },
   "file_extension": ".py",
   "mimetype": "text/x-python",
   "name": "python",
   "nbconvert_exporter": "python",
   "pygments_lexer": "ipython3",
   "version": "3.7.4"
  },
  "toc": {
   "base_numbering": 1,
   "nav_menu": {},
   "number_sections": true,
   "sideBar": true,
   "skip_h1_title": false,
   "title_cell": "Table of Contents",
   "title_sidebar": "Contents",
   "toc_cell": false,
   "toc_position": {},
   "toc_section_display": true,
   "toc_window_display": false
  },
  "varInspector": {
   "cols": {
    "lenName": 16,
    "lenType": 16,
    "lenVar": 40
   },
   "kernels_config": {
    "python": {
     "delete_cmd_postfix": "",
     "delete_cmd_prefix": "del ",
     "library": "var_list.py",
     "varRefreshCmd": "print(var_dic_list())"
    },
    "r": {
     "delete_cmd_postfix": ") ",
     "delete_cmd_prefix": "rm(",
     "library": "var_list.r",
     "varRefreshCmd": "cat(var_dic_list()) "
    }
   },
   "types_to_exclude": [
    "module",
    "function",
    "builtin_function_or_method",
    "instance",
    "_Feature"
   ],
   "window_display": false
  }
 },
 "nbformat": 4,
 "nbformat_minor": 2
}
