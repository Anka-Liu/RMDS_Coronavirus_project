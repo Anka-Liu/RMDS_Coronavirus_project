{
 "cells": [
  {
   "cell_type": "code",
   "execution_count": 2,
   "metadata": {},
   "outputs": [],
   "source": [
    "import pandas as pd\n",
    "import numpy as np\n",
    "from scipy import stats\n",
    "import torch.tensor\n",
    "from torch.utils.data import random_split\n",
    "import torch\n",
    "import torch.nn as nn\n",
    "from torch.utils.data import Dataset \n",
    "from torch.utils.data import DataLoader\n",
    "import matplotlib.pyplot as plt\n",
    "from matplotlib import font_manager"
   ]
  },
  {
   "cell_type": "code",
   "execution_count": 14,
   "metadata": {},
   "outputs": [],
   "source": [
    "def get_ts_dxy(skip_day):\n",
    "    data = pd.read_csv(\"https://raw.githubusercontent.com/BlankerL/DXY-COVID-19-Data/master/csv/DXYArea.csv\")\n",
    "    searchfor = ['外地来','明确地区','不明地区','未知地区','未知','人员','待明确']\n",
    "    data = data[data['countryEnglishName'] == 'China']\n",
    "    #data = data[~data['cityName'].str.contains('|'.join(searchfor))]\n",
    "    data = data[~data['provinceName'].str.contains('|'.join(['香港','台湾','澳门']))]\n",
    "    data = data[data['cityName'].groupby(data['cityName']).transform('size')>40]\n",
    "    data['updateTime']=pd.to_datetime(data['updateTime']).dt.date\n",
    "    grouped = data.sort_values('updateTime',ascending = False).groupby(['updateTime'])\n",
    "    i = 0\n",
    "    integrate = pd.DataFrame()\n",
    "    for name,group in grouped:\n",
    "        i +=1\n",
    "        set_group = group.drop_duplicates(['provinceName','cityName'])\n",
    "        set_group = set_group[['provinceName','cityName','city_confirmedCount','city_curedCount','city_deadCount']]\n",
    "        set_group.rename(columns={\"city_confirmedCount\": \"city_confirmedCount\"+' '+str(name), \n",
    "                                  \"city_curedCount\": \"city_curedCount\"+' '+str(name),\n",
    "                                  'city_deadCount': 'city_deadCount'+' '+str(name)}, inplace=True)\n",
    "        if i<=skip_day:\n",
    "            integrate = set_group\n",
    "        else:\n",
    "            integrate = integrate.merge(set_group, how = 'outer', on = ['provinceName','cityName'])\n",
    "    integrate.dropna(thresh=len(integrate.columns)*0.9, inplace = True)\n",
    "    integrate['ts']= integrate.iloc[:,2:].values.tolist()\n",
    "    integrate = integrate[['provinceName','cityName','ts']].reset_index(drop=True)\n",
    "    return integrate"
   ]
  },
  {
   "cell_type": "code",
   "execution_count": 4,
   "metadata": {},
   "outputs": [],
   "source": [
    "def prepare_data(data,window):\n",
    "    '''\n",
    "    arraydata = []\n",
    "    for index, row in data.iterrows():\n",
    "        ts = np.diff(np.reshape(row.ts,(-1,3)),axis = 0)\n",
    "        ts = ts[~np.isnan(ts).any(axis=1),:]\n",
    "        address = row.provinceName+row.cityName\n",
    "        lat, lng = get_location_using_baidu(address)\n",
    "        for i in range(len(ts)-window+1):\n",
    "            seq = np.array(ts[i:i+window])\n",
    "            total_recover = np.sum(seq[:,1])\n",
    "            total_death = np.sum(seq[:,2])\n",
    "            seq = seq[:,0] - seq[:,1] - seq[:,2]\n",
    "            mean = np.mean(seq,axis = 0)\n",
    "            std = np.std(seq,axis = 0)\n",
    "            seq -= mean\n",
    "            if std!=0:\n",
    "                seq /= std\n",
    "            final_seq = np.concatenate((seq, [lat, lng, total_recover, total_death, mean, std]))\n",
    "            arraydata.append(final_seq)\n",
    "    \n",
    "    np.savetxt('data.csv', arraydata, delimiter=',')\n",
    "    '''\n",
    "    arraydata = np.loadtxt('data.csv', delimiter=',')\n",
    "    \n",
    "    arraydata = torch.tensor(arraydata, dtype=torch.float)\n",
    "    #split or not\n",
    "    dataset = datasets(arraydata)\n",
    "    train_len = int(dataset.__len__()*0.8)\n",
    "    test_len = dataset.__len__()-train_len\n",
    "    train_data, test_data = random_split(dataset,[train_len,test_len])\n",
    "    return train_data, test_data"
   ]
  },
  {
   "cell_type": "code",
   "execution_count": 5,
   "metadata": {},
   "outputs": [],
   "source": [
    "class LSTMModel(nn.Module):\n",
    "    def __init__(self, input_dim, hidden_dim, layer_dim, output_dim):\n",
    "        super(LSTMModel, self).__init__()\n",
    "        self.hidden_dim = hidden_dim\n",
    "        self.layer_dim = layer_dim\n",
    "        # batch_first=True causes input/output tensors to be of shape\n",
    "        # (batch_dim, seq_dim, feature_dim)\n",
    "        self.lstm = nn.LSTM(input_dim, hidden_dim, layer_dim, batch_first=True)\n",
    "        self.fc = nn.Linear(hidden_dim, output_dim)\n",
    "        self.fc2 = nn.Linear(output_dim, 1)\n",
    "        self.relu = nn.PReLU()\n",
    "        #self.fc3 = nn.Linear(100,1)\n",
    "\n",
    "    def forward(self, x):\n",
    "        # Initialize hidden state\n",
    "        h0 = torch.zeros(self.layer_dim, x.size(0), self.hidden_dim, dtype=torch.float).requires_grad_()\n",
    "        # Initialize cell state\n",
    "        c0 = torch.zeros(self.layer_dim, x.size(0), self.hidden_dim, dtype=torch.float).requires_grad_()\n",
    "        out, (hn, cn) = self.lstm(x[:,0:7,:], (h0.detach(), c0.detach()))\n",
    "        # Index hidden state of last time step\n",
    "        #out = torch.cat((out[:,-1,:],x[:,11:,0]), dim = 1)\n",
    "        out = self.fc(out[:,-1,:])\n",
    "        #out = self.relu(self.fc(out[:, -1, :]))\n",
    "        #out = torch.cat((out,x[:,7:,0]), dim = 1)\n",
    "        out = self.fc2(out)\n",
    "        #out = self.fc3(out)\n",
    "        return out\n",
    "    \n",
    "    \n",
    "class datasets(Dataset):\n",
    "    def __init__(self, data):\n",
    "        self.data = data\n",
    "        \n",
    "    def __len__(self):\n",
    "        return len(self.data)\n",
    "    \n",
    "    def __getitem__(self, index):\n",
    "        target = self.data[index][7]\n",
    "        data_val = torch.cat([self.data[index][0:7], self.data[index][8:]])\n",
    "        data_val.resize_(13, 1)        \n",
    "        target.resize_(1)\n",
    "        return data_val,target"
   ]
  },
  {
   "cell_type": "code",
   "execution_count": 6,
   "metadata": {},
   "outputs": [],
   "source": [
    "def training_model(train_data, test_data, num_epochs, batch_size=8, input_dim=1, hidden_dim=100, output_dim=100, seq_dim=7):\n",
    "    \n",
    "    train_loader = DataLoader(dataset=train_data, batch_size=batch_size, shuffle=True, drop_last=True)\n",
    "    test_loader = DataLoader(dataset=train_data, batch_size=batch_size, shuffle=True, drop_last=True)\n",
    "    Mymodel = LSTMModel(input_dim, hidden_dim, 1, output_dim)\n",
    "    loss_function = nn.MSELoss()\n",
    "    optimizer = torch.optim.Adam(Mymodel.parameters(), lr=0.0001)\n",
    "    iters = 0\n",
    "    hisloss = []\n",
    "    for epoch in range(num_epochs):\n",
    "        for data_val,target in train_loader:\n",
    "            # clean the previous gredient\n",
    "            optimizer.zero_grad()\n",
    "            outputs = Mymodel(data_val)\n",
    "            #calculate loss\n",
    "            loss = loss_function(outputs, target)\n",
    "            hisloss.append(loss.item())\n",
    "            # using loss to calculate gredient, stored in model\n",
    "            loss.backward()\n",
    "            # using gredient to update model parameters\n",
    "            optimizer.step()\n",
    "            iters += 1\n",
    "            if iters % 300 ==0:\n",
    "                for test_val,test_target in test_loader:\n",
    "                    test_outputs = Mymodel(test_val)\n",
    "                    loss2 = loss_function(test_outputs, test_target)\n",
    "                print('Iteration: {}. TrainLoss: {}. TestLoss: {}'.format(iters, loss.item(), loss2.item()))\n",
    "                torch.save(Mymodel.state_dict(), 'Trained_model/trained_model_'+ str(iters) + '.pkl')\n",
    "                \n",
    "    plt.plot(hisloss)\n",
    "    plt.xlabel('Iteration')\n",
    "    plt.ylabel('Training loss')\n",
    "    plt.title('Traing process')\n",
    "    plt.grid(True)\n",
    "    plt.savefig('Trained_model/loss.png')\n",
    "    return Mymodel"
   ]
  },
  {
   "cell_type": "code",
   "execution_count": 21,
   "metadata": {},
   "outputs": [],
   "source": [
    "def evaluation(provincename, cityname, modelpath, data):\n",
    "    #lat, long = get_location_using_baidu(provincename+cityname)\n",
    "    lat, long = [0,0]\n",
    "    Mymodel = LSTMModel(1, 100, 1, 100)\n",
    "    Mymodel.load_state_dict(torch.load(modelpath))\n",
    "    series = data.loc[(data[\"provinceName\"] == provincename) & (data[\"cityName\"] == cityname), \"ts\"].values.tolist()\n",
    "    series = np.reshape(series,(-1,3))\n",
    "    if np.isnan(series[-1][0]):\n",
    "        series = series[:-1]\n",
    "    series[:,0] = series[:,0] - series[:,1] - series[:,2]\n",
    "    diff_series = np.diff(series,axis = 0)\n",
    "    n = len(diff_series)\n",
    "    predict_series = np.array(series[0:7,0:1])\n",
    "    store_diff = np.array(diff_series[0:7,0:1])\n",
    "\n",
    "    for i in range(n-6):\n",
    "        seq = np.array(diff_series[i:i+7])\n",
    "        total_recover = np.sum(seq[:,1])\n",
    "        total_death = np.sum(seq[:,2])\n",
    "        seq = seq[:,0:1]\n",
    "        mean = np.mean(seq[:,0],axis = 0)\n",
    "        std = np.std(seq[:,0],axis = 0)\n",
    "        seq -= mean\n",
    "        if std!=0:\n",
    "            seq /= std\n",
    "        tensor_seq = torch.tensor(seq, dtype=torch.float, requires_grad=False)\n",
    "        add_seq = torch.tensor([[lat], [long], [total_recover], [total_death], [mean], [std]])\n",
    "        tensor_seq = torch.cat([tensor_seq,add_seq])\n",
    "        tensor_seq.resize_(1, 13, 1)\n",
    "        predictions = np.array(Mymodel(tensor_seq).tolist()[0])\n",
    "        real_diff = predictions * std + mean\n",
    "        store_diff = np.append(store_diff,[real_diff],axis = 0)\n",
    "        if i>n-7:\n",
    "            diff_series = np.append(diff_series,[[real_diff[0],0,0]],axis = 0)\n",
    "            predict_series = np.append(predict_series,[np.array(list(map(sum,zip(predict_series[-1],real_diff))))],axis = 0)\n",
    "        else:\n",
    "            predict_series = np.append(predict_series,[np.array(list(map(sum,zip(series[i+6][0:1],real_diff))))],axis = 0)\n",
    "    \n",
    "    \n",
    "    return series, predict_series, provincename+cityname, store_diff, diff_series"
   ]
  },
  {
   "cell_type": "code",
   "execution_count": 8,
   "metadata": {},
   "outputs": [],
   "source": [
    "def draw_plot(origin,pred,title):\n",
    "    fontP = font_manager.FontProperties()\n",
    "    fontP.set_family('SimHei')\n",
    "    fontP.set_size(14)\n",
    "    \n",
    "    x1 = origin[:,0]\n",
    "    x2 = pred[:,0]\n",
    "    plt.plot(x1, label = \"True_value\")\n",
    "    plt.plot(x2, label = \"Predicted_value\")\n",
    "    plt.xlabel('Time (days)')\n",
    "    plt.ylabel('Infections')\n",
    "    plt.title(title,fontproperties=fontP)\n",
    "    plt.legend()\n",
    "    plt.grid(True)\n",
    "    plt.show()\n",
    "    return"
   ]
  },
  {
   "cell_type": "code",
   "execution_count": 25,
   "metadata": {},
   "outputs": [],
   "source": [
    "def generate_predictions(provincename, cityname, modelpath, data, lastn):\n",
    "    Mymodel = LSTMModel(1, 100, 1, 100)\n",
    "    Mymodel.load_state_dict(torch.load(modelpath))\n",
    "    series = data.loc[(data[\"provinceName\"] == provincename) & (data[\"cityName\"] == cityname), \"ts\"].values.tolist()\n",
    "    series = np.reshape(series,(-1,3))\n",
    "    N = len(series)\n",
    "    if np.isnan(series[-1][0]):\n",
    "        series = series[:-1]\n",
    "    series = series[:,0] - series[:,1] - series[:,2]\n",
    "    remov_seq = series[N-lastn:N]\n",
    "    series = series[:N-lastn]\n",
    "    for i in range(N-lastn,N):\n",
    "        input_seq = series[i-8:i]\n",
    "        diff_seq = np.diff(input_seq)\n",
    "        mean = np.mean(diff_seq,axis = 0)\n",
    "        std = np.std(diff_seq,axis = 0)\n",
    "        diff_seq -= mean\n",
    "        if std!=0:\n",
    "            diff_seq /= std\n",
    "        tensor_seq = torch.tensor(diff_seq, dtype=torch.float, requires_grad=False)\n",
    "        add_seq = torch.tensor([0, 0, 0, 0, mean, std])\n",
    "        tensor_seq = torch.cat([tensor_seq,add_seq])\n",
    "        tensor_seq.resize_(1, 13, 1)\n",
    "        predictions = np.array(Mymodel(tensor_seq).tolist()[0])\n",
    "        real_diff = predictions * std + mean\n",
    "        series = np.append(series, [series[-1]+real_diff[0]], axis = 0)\n",
    "    predicted_val = series[N-lastn:N]\n",
    "    series = series[:N-lastn]\n",
    "    series = np.append(series, remov_seq, axis = 0)\n",
    "    return predicted_val, series"
   ]
  },
  {
   "cell_type": "code",
   "execution_count": 32,
   "metadata": {},
   "outputs": [],
   "source": [
    "def prediction_plot(origin, pred, title):\n",
    "    plt.plot(origin, label = \"True_value\")\n",
    "    lastn = len(pred)\n",
    "    n = len(origin)\n",
    "    index = np.arange(n-lastn,n)\n",
    "    plt.plot(index, pred, label = \"Predicted_value\")\n",
    "    plt.xlabel('Time (days)')\n",
    "    plt.ylabel('Infections')\n",
    "    plt.title(title+'_'+str(lastn)+'_ahead')\n",
    "    plt.legend()\n",
    "    plt.grid(True)\n",
    "    plt.show()\n",
    "    results = origin[n-lastn:n]\n",
    "    average_error = np.mean(np.absolute(results-pred))\n",
    "    print (\"average_error=\"+str(average_error))\n",
    "    return"
   ]
  },
  {
   "cell_type": "code",
   "execution_count": 15,
   "metadata": {},
   "outputs": [
    {
     "name": "stdout",
     "output_type": "stream",
     "text": [
      "Iteration: 300. TrainLoss: 0.5511717796325684. TestLoss: 0.3467045724391937\n",
      "Iteration: 600. TrainLoss: 0.08866909891366959. TestLoss: 0.06585557758808136\n",
      "Iteration: 900. TrainLoss: 0.007658255286514759. TestLoss: 0.0036539118736982346\n",
      "Iteration: 1200. TrainLoss: 0.004397462587803602. TestLoss: 0.0015182014321908355\n",
      "Iteration: 1500. TrainLoss: 0.003665744327008724. TestLoss: 0.0009638695046305656\n",
      "Iteration: 1800. TrainLoss: 0.0018277440685778856. TestLoss: 0.0023386224638670683\n",
      "Iteration: 2100. TrainLoss: 0.0013447505189105868. TestLoss: 0.0005905271973460913\n",
      "Iteration: 2400. TrainLoss: 0.0006944742635823786. TestLoss: 0.0007546711713075638\n",
      "Iteration: 2700. TrainLoss: 0.00036393210757523775. TestLoss: 0.001087011187337339\n",
      "Iteration: 3000. TrainLoss: 0.0007950076251290739. TestLoss: 0.0016035105800256133\n",
      "Iteration: 3300. TrainLoss: 0.0002958777185995132. TestLoss: 0.0006970787071622908\n",
      "Iteration: 3600. TrainLoss: 0.0006294220220297575. TestLoss: 4.779141454491764e-05\n",
      "Iteration: 3900. TrainLoss: 0.00039855638169683516. TestLoss: 0.0001718611893011257\n",
      "Iteration: 4200. TrainLoss: 0.0012336530489847064. TestLoss: 0.0010064784437417984\n",
      "Iteration: 4500. TrainLoss: 0.00016345626499969512. TestLoss: 0.00017213713726960123\n"
     ]
    },
    {
     "data": {
      "image/png": "[encoded data removed]",
      "text/plain": [
       "<Figure size 432x288 with 1 Axes>"
      ]
     },
     "metadata": {},
     "output_type": "display_data"
    }
   ],
   "source": [
    "if __name__ == \"__main__\":\n",
    "    data = get_ts_dxy(1)\n",
    "    train,test = prepare_data(data,8)\n",
    "    Mymodel = training_model(train,test, num_epochs = 6)"
   ]
  },
  {
   "cell_type": "code",
   "execution_count": 22,
   "metadata": {},
   "outputs": [
    {
     "data": {
      "image/png": "[encoded data removed]",
      "text/plain": [
       "<Figure size 432x288 with 1 Axes>"
      ]
     },
     "metadata": {},
     "output_type": "display_data"
    }
   ],
   "source": [
    "    modelpath = 'Trained_model/trained_model_3300.pkl'\n",
    "    origin , predictions, title, store_diff, diff_series,  = evaluation('湖北省', '武汉', modelpath, data)\n",
    "    draw_plot(diff_series, store_diff, 'Wuhan'+' difference')"
   ]
  },
  {
   "cell_type": "code",
   "execution_count": 33,
   "metadata": {},
   "outputs": [
    {
     "data": {
      "image/png": "[encoded data removed]",
      "text/plain": [
       "<Figure size 432x288 with 1 Axes>"
      ]
     },
     "metadata": {},
     "output_type": "display_data"
    },
    {
     "name": "stdout",
     "output_type": "stream",
     "text": [
      "average_error=1040.913390379465\n"
     ]
    }
   ],
   "source": [
    "    predicted, rawdata = generate_predictions('湖北省', '武汉', modelpath, data,15)\n",
    "    prediction_plot(rawdata, predicted, 'Wuhan')"
   ]
  },
  {
   "cell_type": "code",
   "execution_count": null,
   "metadata": {},
   "outputs": [],
   "source": []
  }
 ],
 "metadata": {
  "kernelspec": {
   "display_name": "Python 3",
   "language": "python",
   "name": "python3"
  },
  "language_info": {
   "codemirror_mode": {
    "name": "ipython",
    "version": 3
   },
   "file_extension": ".py",
   "mimetype": "text/x-python",
   "name": "python",
   "nbconvert_exporter": "python",
   "pygments_lexer": "ipython3",
   "version": "3.6.5"
  }
 },
 "nbformat": 4,
 "nbformat_minor": 2
}
